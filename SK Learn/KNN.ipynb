{
 "cells": [
  {
   "cell_type": "code",
   "execution_count": 2,
   "metadata": {},
   "outputs": [],
   "source": [
    "import sklearn\n",
    "import pandas as pd\n",
    "from sklearn.neighbors import KNeighborsClassifier\n",
    "import numpy as np\n",
    "from sklearn.model_selection import train_test_split\n",
    "import matplotlib.pyplot as plt"
   ]
  },
  {
   "cell_type": "code",
   "execution_count": 3,
   "metadata": {},
   "outputs": [
    {
     "name": "stdout",
     "output_type": "stream",
     "text": [
      "     clump_thickess  unif_cell_size  unif_cell_shape  marg_adhesion  \\\n",
      "0                 5               1                1              1   \n",
      "1                 5               4                4              5   \n",
      "2                 3               1                1              1   \n",
      "3                 6               8                8              1   \n",
      "4                 4               1                1              3   \n",
      "..              ...             ...              ...            ...   \n",
      "694               3               1                1              1   \n",
      "695               2               1                1              1   \n",
      "696               5              10               10              3   \n",
      "697               4               8                6              4   \n",
      "698               4               8                8              5   \n",
      "\n",
      "     single_epith_cell_size bare_nuclei  bland_chrom  norm_nucleoli  mitosis  \\\n",
      "0                         2           1            3              1        1   \n",
      "1                         7          10            3              2        1   \n",
      "2                         2           2            3              1        1   \n",
      "3                         3           4            3              7        1   \n",
      "4                         2           1            3              1        1   \n",
      "..                      ...         ...          ...            ...      ...   \n",
      "694                       3           2            1              1        1   \n",
      "695                       2           1            1              1        1   \n",
      "696                       7           3            8             10        2   \n",
      "697                       3           4           10              6        1   \n",
      "698                       4           5           10              4        1   \n",
      "\n",
      "     class  \n",
      "0        2  \n",
      "1        2  \n",
      "2        2  \n",
      "3        2  \n",
      "4        2  \n",
      "..     ...  \n",
      "694      2  \n",
      "695      2  \n",
      "696      4  \n",
      "697      4  \n",
      "698      4  \n",
      "\n",
      "[699 rows x 10 columns]\n"
     ]
    }
   ],
   "source": [
    "df = pd.read_csv('../Datasets/breast-cancer-wisconsin.data', sep=',')\n",
    "df.replace('?', -9999, inplace=True)\n",
    "df.drop(['id'], 1, inplace=True)\n",
    "print(df)"
   ]
  },
  {
   "cell_type": "code",
   "execution_count": 4,
   "metadata": {},
   "outputs": [],
   "source": [
    "X = np.array(df.drop(['class'],1))\n",
    "y = np.array(df['class'])\n",
    "\n",
    "X_train, X_test, y_train, y_test = sklearn.model_selection.train_test_split(X, y, test_size=0.2)"
   ]
  },
  {
   "cell_type": "code",
   "execution_count": 5,
   "metadata": {},
   "outputs": [
    {
     "data": {
      "text/plain": [
       "KNeighborsClassifier(algorithm='auto', leaf_size=30, metric='minkowski',\n",
       "                     metric_params=None, n_jobs=None, n_neighbors=9, p=2,\n",
       "                     weights='uniform')"
      ]
     },
     "execution_count": 5,
     "metadata": {},
     "output_type": "execute_result"
    }
   ],
   "source": [
    "clf = KNeighborsClassifier(n_neighbors=9)\n",
    "clf.fit(X_train, y_train)"
   ]
  },
  {
   "cell_type": "code",
   "execution_count": 6,
   "metadata": {},
   "outputs": [],
   "source": [
    "acc = clf.score(X_test, y_test)"
   ]
  },
  {
   "cell_type": "code",
   "execution_count": 7,
   "metadata": {},
   "outputs": [],
   "source": [
    "names = ['Benign', 'Malignant']"
   ]
  },
  {
   "cell_type": "code",
   "execution_count": 8,
   "metadata": {},
   "outputs": [
    {
     "name": "stdout",
     "output_type": "stream",
     "text": [
      "[2 4]\n",
      "Benign\n",
      "Malignant\n"
     ]
    }
   ],
   "source": [
    "predict_for = np.array([[1,1,1,2,4,2,1,1,1], [5,4,4,2,1,6,7,2,1]])\n",
    "length = len(predict_for)\n",
    "predict_these = predict_for.reshape(length,-1)\n",
    "prediction = clf.predict(predict_these)\n",
    "print (prediction)\n",
    "#print(names[a-1] for a in prediction)\n",
    "for i in prediction:\n",
    "    if i==2:\n",
    "        print(names[0])\n",
    "    else:\n",
    "        print(names[1])"
   ]
  },
  {
   "cell_type": "code",
   "execution_count": 9,
   "metadata": {},
   "outputs": [
    {
     "name": "stdout",
     "output_type": "stream",
     "text": [
      "Index(['clump_thickess', 'unif_cell_size', 'unif_cell_shape', 'marg_adhesion',\n",
      "       'single_epith_cell_size', 'bare_nuclei', 'bland_chrom', 'norm_nucleoli',\n",
      "       'mitosis'],\n",
      "      dtype='object')\n"
     ]
    }
   ],
   "source": [
    "data = df.drop(['class'],1)\n",
    "columns = data.columns\n",
    "print(columns)"
   ]
  },
  {
   "cell_type": "code",
   "execution_count": null,
   "metadata": {},
   "outputs": [],
   "source": []
  },
  {
   "cell_type": "code",
   "execution_count": null,
   "metadata": {},
   "outputs": [],
   "source": []
  },
  {
   "cell_type": "code",
   "execution_count": null,
   "metadata": {},
   "outputs": [],
   "source": []
  },
  {
   "cell_type": "code",
   "execution_count": null,
   "metadata": {},
   "outputs": [],
   "source": []
  }
 ],
 "metadata": {
  "kernelspec": {
   "display_name": "Python 3",
   "language": "python",
   "name": "python3"
  },
  "language_info": {
   "codemirror_mode": {
    "name": "ipython",
    "version": 3
   },
   "file_extension": ".py",
   "mimetype": "text/x-python",
   "name": "python",
   "nbconvert_exporter": "python",
   "pygments_lexer": "ipython3",
   "version": "3.7.7"
  }
 },
 "nbformat": 4,
 "nbformat_minor": 4
}
