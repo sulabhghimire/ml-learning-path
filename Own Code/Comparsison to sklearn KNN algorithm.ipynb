{
 "cells": [
  {
   "cell_type": "code",
   "execution_count": 1,
   "metadata": {},
   "outputs": [],
   "source": [
    "import numpy as np\n",
    "from collections import Counter\n",
    "import warnings\n",
    "import pandas as pd\n",
    "import random"
   ]
  },
  {
   "cell_type": "code",
   "execution_count": 2,
   "metadata": {},
   "outputs": [],
   "source": [
    "df = pd.read_csv('../Datasets/breast-cancer-wisconsin.data', sep=',')\n",
    "df.replace('?', -9999, inplace=True)\n",
    "df.drop(['id'], 1, inplace=True)\n",
    "#We are converting some of the string data to float type .........\n",
    "#We are also converting it to list type of data\n",
    "full_data = df.astype(float).values.tolist()\n",
    "random.shuffle(full_data)"
   ]
  },
  {
   "cell_type": "code",
   "execution_count": 3,
   "metadata": {},
   "outputs": [],
   "source": [
    "test_size = 0.2\n",
    "#we are creating our train data as 80% of total data\n",
    "#we are creating our test data as 20% of total data\n",
    "train_data = full_data[:-int(len(full_data)*test_size)] \n",
    "test_data = full_data[-int(len(full_data)*test_size):] \n",
    "#We are creating a train set and test set as dictionary as our KNN takes dictionary data as input\n",
    "train_set = {2:[], 4:[]}\n",
    "test_set = {2:[], 4:[]}"
   ]
  },
  {
   "cell_type": "code",
   "execution_count": 4,
   "metadata": {},
   "outputs": [],
   "source": [
    "#populating the train_set and test_set\n",
    "for i in train_data:\n",
    "    train_set[i[-1]].append(i[:-1])\n",
    "    \n",
    "for i in test_data:\n",
    "    test_set[i[-1]].append(i[:-1])"
   ]
  },
  {
   "cell_type": "code",
   "execution_count": 5,
   "metadata": {},
   "outputs": [],
   "source": [
    "def k_nearest_neighbour(data, predict, k=5):\n",
    "    #we are going to warn if anyone sets the value of k less than coting groups\n",
    "    if len(data) >=k:\n",
    "        warnings.warn('K value is less than total voting groups!')\n",
    "    distances = []\n",
    "    vote = []\n",
    "    #First we are going to iterate in data we have got and take their group i.e. 2 or 4\n",
    "    for group in data:\n",
    "    #Here we go to the features of that group and take one feature at a time, calculate eculidean distance and append that \n",
    "    #distance and group as a list to the list called distances\n",
    "        for features in data[group]:\n",
    "            eculidean_distance = np.linalg.norm(np.array(features)-np.array(predict))\n",
    "            distances.append([eculidean_distance, group])\n",
    "    #Here we are going to iterate through sorted distances and we are only taking numbers of distances and we need to derive \n",
    "    #data from that\n",
    "    for i in sorted(distances)[:k]:\n",
    "    #We are going to append the group only from the iteration that we have gone through\n",
    "        vote.append(i[1])\n",
    "    #here we count the votes by using counter and taking only most common\n",
    "    #Counter(vote).most_common(1) returns a list of tuple of name that which has most number of votes and their values  \n",
    "    vote_result = Counter(vote).most_common(1)[0][0]\n",
    "    #confidence means that how much % algorith thinks it is correct\n",
    "    confidence = Counter(vote).most_common(1)[0][1]/ k\n",
    "    return (vote_result, confidence)"
   ]
  },
  {
   "cell_type": "code",
   "execution_count": 6,
   "metadata": {},
   "outputs": [
    {
     "name": "stdout",
     "output_type": "stream",
     "text": [
      "0.8\n",
      "0.6\n"
     ]
    }
   ],
   "source": [
    "correct = 0\n",
    "total = 0\n",
    "#First we are going to iterate in trainig data set\n",
    "for group in test_set:\n",
    "    #Here we go to the features of that group and take one feature at a time and send to the function so that function says....\n",
    "    #.... what group it belongs to and return vote_result\n",
    "    for data in test_set[group]:\n",
    "        vote, confidence = k_nearest_neighbour(train_set, data, 5)\n",
    "        #here we compare the group from test_set and the group from the returned value\n",
    "        if group == vote:\n",
    "            correct += 1\n",
    "        else:\n",
    "            print(confidence)\n",
    "        total += 1"
   ]
  },
  {
   "cell_type": "code",
   "execution_count": 7,
   "metadata": {},
   "outputs": [
    {
     "name": "stdout",
     "output_type": "stream",
     "text": [
      "Accuracy =  98.56115107913669\n"
     ]
    }
   ],
   "source": [
    "print('Accuracy = ', (correct/total) * 100)"
   ]
  },
  {
   "cell_type": "code",
   "execution_count": null,
   "metadata": {},
   "outputs": [],
   "source": []
  }
 ],
 "metadata": {
  "kernelspec": {
   "display_name": "Python 3",
   "language": "python",
   "name": "python3"
  },
  "language_info": {
   "codemirror_mode": {
    "name": "ipython",
    "version": 3
   },
   "file_extension": ".py",
   "mimetype": "text/x-python",
   "name": "python",
   "nbconvert_exporter": "python",
   "pygments_lexer": "ipython3",
   "version": "3.7.7"
  }
 },
 "nbformat": 4,
 "nbformat_minor": 4
}
